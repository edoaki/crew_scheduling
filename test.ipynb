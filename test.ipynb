{
 "cells": [
  {
   "cell_type": "code",
   "execution_count": null,
   "metadata": {},
   "outputs": [],
   "source": [
    "\n",
    "%load_ext autoreload\n",
    "%autoreload 2\n",
    "\n",
    "from utils.yaml_loader import load_yaml\n",
    "\n",
    "from env.generator import CrewARGenerator ,save_npz,load_npz\n",
    "from env.batch_env import VecCrewAREnv\n",
    "from env.env import CrewAREnv\n",
    "from pathlib import Path\n",
    "import numpy as np\n",
    "\n",
    "\n",
    "DATA_DIR = Path(\"data\")\n",
    "CONFIG_DIR = Path(\"test_config\")\n",
    "\n",
    "station_yaml = str(CONFIG_DIR / \"station.yaml\")\n",
    "train_yaml = str(CONFIG_DIR / \"train.yaml\")\n",
    "constraints_yaml = str(CONFIG_DIR / \"constraints.yaml\")\n",
    "crew_yaml = str(CONFIG_DIR / \"crew.yaml\")\n",
    "encoding_yaml = str(CONFIG_DIR / \"encoding.yaml\")\n",
    "\n",
    "data_path = DATA_DIR / \"sample.npz\"\n",
    "\n",
    "generator = CrewARGenerator(station_yaml=station_yaml,\n",
    "                            train_yaml=train_yaml,\n",
    "                            constraints_yaml=constraints_yaml,\n",
    "                            crew_yaml=crew_yaml\n",
    "                            )\n",
    "\n"
   ]
  },
  {
   "cell_type": "code",
   "execution_count": null,
   "metadata": {},
   "outputs": [],
   "source": [
    "from models.embedding.utils import load_station_time_from_A\n",
    "from models.embedding.init_emb import InitEnbeddings,StaticTokenizerConfig\n",
    "cfg = StaticTokenizerConfig()\n",
    "station_time_from_A = load_station_time_from_A(station_yaml,encoding_yaml)\n",
    "init_emb = InitEnbeddings(cfg=cfg,station_time_from_A = station_time_from_A)"
   ]
  },
  {
   "cell_type": "code",
   "execution_count": null,
   "metadata": {},
   "outputs": [],
   "source": [
    "from env.batch_env import VecCrewAREnv\n",
    "B = 1  # バッチサイズ\n",
    "constraints = load_yaml(constraints_yaml)\n",
    "env = VecCrewAREnv(generator,constraints,B)\n",
    "statics,dyns,masks,pairs = env.reset()"
   ]
  },
  {
   "cell_type": "code",
   "execution_count": null,
   "metadata": {},
   "outputs": [],
   "source": [
    "\n",
    "\n",
    "def batch_generete(generator, B):\n",
    "    td_batch = [generator.generate() for _ in range(B)]\n",
    "    return td_batch\n",
    "\n",
    "td_batch = batch_generete(generator, B)\n"
   ]
  },
  {
   "cell_type": "code",
   "execution_count": null,
   "metadata": {},
   "outputs": [],
   "source": [
    "init_h = init_emb(td_batch)\n",
    "print(init_h)"
   ]
  }
 ],
 "metadata": {
  "kernelspec": {
   "display_name": "crew-scheduling",
   "language": "python",
   "name": "python3"
  },
  "language_info": {
   "codemirror_mode": {
    "name": "ipython",
    "version": 3
   },
   "file_extension": ".py",
   "mimetype": "text/x-python",
   "name": "python",
   "nbconvert_exporter": "python",
   "pygments_lexer": "ipython3",
   "version": "3.9.6"
  }
 },
 "nbformat": 4,
 "nbformat_minor": 2
}
